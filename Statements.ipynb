{
  "nbformat": 4,
  "nbformat_minor": 0,
  "metadata": {
    "colab": {
      "name": "Statements.ipynb",
      "provenance": [],
      "authorship_tag": "ABX9TyN8vOb9pwYpb2F5YLgq8J1O",
      "include_colab_link": true
    },
    "kernelspec": {
      "name": "python3",
      "display_name": "Python 3"
    },
    "language_info": {
      "name": "python"
    }
  },
  "cells": [
    {
      "cell_type": "markdown",
      "metadata": {
        "id": "view-in-github",
        "colab_type": "text"
      },
      "source": [
        "<a href=\"https://colab.research.google.com/github/medhavrata/python-functions-31-10-21/blob/main/Statements.ipynb\" target=\"_parent\"><img src=\"https://colab.research.google.com/assets/colab-badge.svg\" alt=\"Open In Colab\"/></a>"
      ]
    },
    {
      "cell_type": "markdown",
      "metadata": {
        "id": "2Tnx29ajGnK6"
      },
      "source": [
        "# Lesson One: Statements"
      ]
    },
    {
      "cell_type": "markdown",
      "metadata": {
        "id": "ovb_UyhOGFvp"
      },
      "source": [
        "## Functions"
      ]
    },
    {
      "cell_type": "markdown",
      "metadata": {
        "id": "KONSzIDZKcG9"
      },
      "source": [
        "### Basic Functions"
      ]
    },
    {
      "cell_type": "markdown",
      "metadata": {
        "id": "54irUIVPKsN6"
      },
      "source": [
        ""
      ]
    },
    {
      "cell_type": "code",
      "metadata": {
        "colab": {
          "base_uri": "https://localhost:8080/"
        },
        "id": "Q3dibT08GmHn",
        "outputId": "ffa07ea5-dc6c-4244-e651-2ce086cd837c"
      },
      "source": [
        "print(\"hello world!\")"
      ],
      "execution_count": null,
      "outputs": [
        {
          "output_type": "stream",
          "name": "stdout",
          "text": [
            "hello world!\n"
          ]
        }
      ]
    },
    {
      "cell_type": "code",
      "metadata": {
        "id": "uJ9-eu5tG9sT"
      },
      "source": [
        "def first_func(x):\n",
        "  print(f\"value passed is {x}\")"
      ],
      "execution_count": null,
      "outputs": []
    },
    {
      "cell_type": "code",
      "metadata": {
        "id": "yNBvyO1QKFgy",
        "colab": {
          "base_uri": "https://localhost:8080/"
        },
        "outputId": "0f38a2c9-f23f-45ca-e89b-b5cf365898c3"
      },
      "source": [
        "first_func(3)"
      ],
      "execution_count": null,
      "outputs": [
        {
          "output_type": "stream",
          "name": "stdout",
          "text": [
            "value passed is 3\n"
          ]
        }
      ]
    },
    {
      "cell_type": "markdown",
      "metadata": {
        "id": "gcnD2S16Kydc"
      },
      "source": [
        "### Python Decorators and Generators"
      ]
    },
    {
      "cell_type": "markdown",
      "metadata": {
        "id": "gPHjkQHuNJ9h"
      },
      "source": [
        "#### Deals with infinite data streams"
      ]
    },
    {
      "cell_type": "code",
      "metadata": {
        "id": "_gu9XlOPKwHm"
      },
      "source": [
        "def lazy_return_random_attacks():\n",
        "  \"\"\"Yield attacks each time\"\"\"\n",
        "  import random\n",
        "  attacks = {\"kimura\": \"upper_body\",\n",
        "             \"straight_ankle_lock\": \"lower_body\",\n",
        "             \"arm_triangle\": \"upper_body\",\n",
        "             \"keylock\": \"upper_body\",\n",
        "             \"knee_bar\": \"lower_body\"}\n",
        "  while True:\n",
        "    random_attack = random.choices(list(attacks.keys()))\n",
        "    yield random_attack\n",
        "  \n",
        "  # Make all attacks appear as Upper Case\n",
        "upper_case_attacks = (attack.pop().upper() for attack in lazy_return_random_attacks())"
      ],
      "execution_count": 2,
      "outputs": []
    },
    {
      "cell_type": "code",
      "metadata": {
        "id": "unehpt6F1pmy",
        "colab": {
          "base_uri": "https://localhost:8080/",
          "height": 36
        },
        "outputId": "e6f2b477-0fb9-4e49-e26a-33b20af93b8f"
      },
      "source": [
        "next(upper_case_attacks)"
      ],
      "execution_count": 6,
      "outputs": [
        {
          "output_type": "execute_result",
          "data": {
            "application/vnd.google.colaboratory.intrinsic+json": {
              "type": "string"
            },
            "text/plain": [
              "'KNEE_BAR'"
            ]
          },
          "metadata": {},
          "execution_count": 6
        }
      ]
    },
    {
      "cell_type": "markdown",
      "metadata": {
        "id": "1YsbshMK3DFm"
      },
      "source": [
        "##### Build a pipeline"
      ]
    },
    {
      "cell_type": "code",
      "metadata": {
        "id": "lmTVCjuv3Bm0",
        "colab": {
          "base_uri": "https://localhost:8080/"
        },
        "outputId": "964d5d24-b216-428c-e9ce-de68c28ae93a"
      },
      "source": [
        "## Generator Pipeline: One expression chains into the next\n",
        "#Make all attacks appear as Upper Case\n",
        "upper_case_attacks = (attack.pop().upper() for attack in lazy_return_random_attacks())\n",
        "print(next(upper_case_attacks))\n",
        "#Remove the underscore\n",
        "remove_underscore = (attack.split(\"_\") for attack in upper_case_attacks)\n",
        "print(next(remove_underscore))\n",
        "#Create a new phrase\n",
        "new_attack_phrase = (\" \".join(phrase) for phrase in remove_underscore)\n",
        "print(next(new_attack_phrase))\n",
        "#this is where you can call an AI API\n",
        "#my_api_call = comprehend(new_attack_phrase)"
      ],
      "execution_count": 7,
      "outputs": [
        {
          "output_type": "stream",
          "name": "stdout",
          "text": [
            "KNEE_BAR\n",
            "['KNEE', 'BAR']\n",
            "KEYLOCK\n"
          ]
        }
      ]
    },
    {
      "cell_type": "code",
      "metadata": {
        "colab": {
          "base_uri": "https://localhost:8080/"
        },
        "id": "exwWWB3DzYk9",
        "outputId": "fc1925e2-0d5e-4a21-c4a7-f421e776345e"
      },
      "source": [
        "for number in range(10):\n",
        "  print(next(new_attack_phrase))"
      ],
      "execution_count": 8,
      "outputs": [
        {
          "output_type": "stream",
          "name": "stdout",
          "text": [
            "KEYLOCK\n",
            "KIMURA\n",
            "KIMURA\n",
            "KNEE BAR\n",
            "KIMURA\n",
            "STRAIGHT ANKLE LOCK\n",
            "ARM TRIANGLE\n",
            "STRAIGHT ANKLE LOCK\n",
            "KIMURA\n",
            "STRAIGHT ANKLE LOCK\n"
          ]
        }
      ]
    },
    {
      "cell_type": "code",
      "metadata": {
        "id": "4fPU7KHp2ECs"
      },
      "source": [
        "def randomized_speed_attach_decorator(function):\n",
        "  \"\"\"Randomizes the speed of attacks\"\"\"\n",
        "\n",
        "  import time\n",
        "  import random\n",
        "\n",
        "  def wrapper_func(*args, **kwargs):\n",
        "    sleep_time = random.randint(0,3)\n",
        "    print(f\"Attacking after {sleep_time} seconds\")\n",
        "    time.sleep(sleep_time)\n",
        "    return function(*args, **kwargs)\n",
        "  return wrapper_func"
      ],
      "execution_count": 9,
      "outputs": []
    },
    {
      "cell_type": "code",
      "metadata": {
        "id": "_xzvp62X2PDL"
      },
      "source": [
        "@randomized_speed_attach_decorator\n",
        "def lazy_return_random_attacks():\n",
        "  \"\"\"Yield attacks each time\"\"\"\n",
        "  import random\n",
        "  attacks = {\"kimura\": \"upper_body\",\n",
        "             \"straight_ankle_lock\": \"lower_body\",\n",
        "             \"arm_triangle\": \"upper_body\",\n",
        "             \"keylock\": \"upper_body\",\n",
        "             \"knee_bar\": \"lower_body\"}\n",
        "  while True:\n",
        "    random_attack = random.choices(list(attacks.keys()))\n",
        "    yield random_attack"
      ],
      "execution_count": 10,
      "outputs": []
    },
    {
      "cell_type": "code",
      "metadata": {
        "id": "Zds78Gix2pbp",
        "colab": {
          "base_uri": "https://localhost:8080/"
        },
        "outputId": "39599d18-338a-43a2-861d-41e128bc3ad3"
      },
      "source": [
        "for number in range(4):\n",
        "  print(next(lazy_return_random_attacks()))\n"
      ],
      "execution_count": 12,
      "outputs": [
        {
          "output_type": "stream",
          "name": "stdout",
          "text": [
            "Attacking after 3 seconds\n",
            "['arm_triangle']\n",
            "Attacking after 0 seconds\n",
            "['keylock']\n",
            "Attacking after 2 seconds\n",
            "['kimura']\n",
            "Attacking after 0 seconds\n",
            "['straight_ankle_lock']\n"
          ]
        }
      ]
    },
    {
      "cell_type": "markdown",
      "metadata": {
        "id": "v8pvqpi96cRH"
      },
      "source": [
        "#### Simple Decorator"
      ]
    },
    {
      "cell_type": "code",
      "metadata": {
        "id": "z553dnhT6bfT"
      },
      "source": [
        "from functools import wraps\n",
        "from time import time\n",
        "\n",
        "def timing(f):\n",
        "  @wraps(f)\n",
        "  def wrap(*args, **kw):\n",
        "    ts = time()\n",
        "    result = f(*args, **kw)\n",
        "    te = time()\n",
        "    print(f\"fun: {f.__name__}, args: [{args}, {kw}] took: {te - ts} sec\")\n",
        "    return result\n",
        "  return wrap"
      ],
      "execution_count": 18,
      "outputs": []
    },
    {
      "cell_type": "code",
      "metadata": {
        "id": "LHwjL3f37RCV"
      },
      "source": [
        "def add(x,y):\n",
        "  return x+y"
      ],
      "execution_count": 19,
      "outputs": []
    },
    {
      "cell_type": "code",
      "metadata": {
        "colab": {
          "base_uri": "https://localhost:8080/"
        },
        "id": "cDiPnmpf7UaH",
        "outputId": "c9f7aeed-df11-4348-d12e-3926f124d061"
      },
      "source": [
        "add(1,1)"
      ],
      "execution_count": 20,
      "outputs": [
        {
          "output_type": "execute_result",
          "data": {
            "text/plain": [
              "2"
            ]
          },
          "metadata": {},
          "execution_count": 20
        }
      ]
    },
    {
      "cell_type": "code",
      "metadata": {
        "id": "i3vOG3Yt7Vhv"
      },
      "source": [
        "@timing\n",
        "def add(x,y):\n",
        "  return x+y"
      ],
      "execution_count": 21,
      "outputs": []
    },
    {
      "cell_type": "code",
      "metadata": {
        "colab": {
          "base_uri": "https://localhost:8080/"
        },
        "id": "5IchwUCS7Zhk",
        "outputId": "ce06b128-b971-400d-f850-a9cfc0d38cc9"
      },
      "source": [
        "add(2,2)"
      ],
      "execution_count": 22,
      "outputs": [
        {
          "output_type": "stream",
          "name": "stdout",
          "text": [
            "fun: add, args: [(2, 2), {}] took: 1.6689300537109375e-06 sec\n"
          ]
        },
        {
          "output_type": "execute_result",
          "data": {
            "text/plain": [
              "4"
            ]
          },
          "metadata": {},
          "execution_count": 22
        }
      ]
    },
    {
      "cell_type": "markdown",
      "metadata": {
        "id": "FS9qCEXvF0Xv"
      },
      "source": [
        "#### Nested Functions"
      ]
    },
    {
      "cell_type": "code",
      "metadata": {
        "id": "r2eUpJQ57l-3"
      },
      "source": [
        "def outer():\n",
        "  test = 0\n",
        "  def inner():\n",
        "    nonlocal \n",
        "    return \"I am inside\"\n",
        "  return inner"
      ],
      "execution_count": 23,
      "outputs": []
    },
    {
      "cell_type": "code",
      "metadata": {
        "id": "SgtZznu-F819"
      },
      "source": [
        "res = outer()"
      ],
      "execution_count": 24,
      "outputs": []
    },
    {
      "cell_type": "code",
      "metadata": {
        "colab": {
          "base_uri": "https://localhost:8080/"
        },
        "id": "6IIkvEv3F-XM",
        "outputId": "c292658a-db5b-40f6-ab20-fcd710818ddb"
      },
      "source": [
        "res"
      ],
      "execution_count": 25,
      "outputs": [
        {
          "output_type": "execute_result",
          "data": {
            "text/plain": [
              "<function __main__.outer.<locals>.inner>"
            ]
          },
          "metadata": {},
          "execution_count": 25
        }
      ]
    },
    {
      "cell_type": "code",
      "metadata": {
        "colab": {
          "base_uri": "https://localhost:8080/"
        },
        "id": "zE4ftTJTF_1m",
        "outputId": "bd3b52fe-ea53-4799-ae7d-ab299b943ff0"
      },
      "source": [
        "type(res)"
      ],
      "execution_count": 26,
      "outputs": [
        {
          "output_type": "execute_result",
          "data": {
            "text/plain": [
              "function"
            ]
          },
          "metadata": {},
          "execution_count": 26
        }
      ]
    },
    {
      "cell_type": "code",
      "metadata": {
        "colab": {
          "base_uri": "https://localhost:8080/",
          "height": 36
        },
        "id": "uWqNw3rqGChD",
        "outputId": "cbf5c2fd-1e92-4dde-d022-9a92d6c3dc20"
      },
      "source": [
        "res.__name__"
      ],
      "execution_count": 27,
      "outputs": [
        {
          "output_type": "execute_result",
          "data": {
            "application/vnd.google.colaboratory.intrinsic+json": {
              "type": "string"
            },
            "text/plain": [
              "'inner'"
            ]
          },
          "metadata": {},
          "execution_count": 27
        }
      ]
    },
    {
      "cell_type": "code",
      "metadata": {
        "colab": {
          "base_uri": "https://localhost:8080/",
          "height": 36
        },
        "id": "HhQd25wVGEqb",
        "outputId": "c8b6f7b2-34ab-4b09-ffce-7f5afef10843"
      },
      "source": [
        "res()"
      ],
      "execution_count": 28,
      "outputs": [
        {
          "output_type": "execute_result",
          "data": {
            "application/vnd.google.colaboratory.intrinsic+json": {
              "type": "string"
            },
            "text/plain": [
              "'I am inside'"
            ]
          },
          "metadata": {},
          "execution_count": 28
        }
      ]
    },
    {
      "cell_type": "code",
      "metadata": {
        "id": "FKwNZsF4GGC2"
      },
      "source": [
        ""
      ],
      "execution_count": null,
      "outputs": []
    },
    {
      "cell_type": "markdown",
      "metadata": {
        "id": "5HHA6CeMRM-H"
      },
      "source": [
        "#### Wild Card Arguments"
      ]
    },
    {
      "cell_type": "code",
      "metadata": {
        "id": "TrAMghbGRSnQ"
      },
      "source": [
        "def add(*args):\n",
        "  for arg in args:\n",
        "    print(arg)"
      ],
      "execution_count": 38,
      "outputs": []
    },
    {
      "cell_type": "code",
      "metadata": {
        "id": "XWpYCcgNRZaN",
        "outputId": "873742d0-34c8-4091-99e4-c668b2b67251",
        "colab": {
          "base_uri": "https://localhost:8080/"
        }
      },
      "source": [
        "add(1)"
      ],
      "execution_count": 39,
      "outputs": [
        {
          "output_type": "stream",
          "name": "stdout",
          "text": [
            "1\n"
          ]
        }
      ]
    },
    {
      "cell_type": "code",
      "metadata": {
        "id": "oWjF13dkRaUp",
        "outputId": "f0d47dc5-fd57-4b08-9c9d-d47a4d390e9d",
        "colab": {
          "base_uri": "https://localhost:8080/"
        }
      },
      "source": [
        "add(1,2)"
      ],
      "execution_count": 40,
      "outputs": [
        {
          "output_type": "stream",
          "name": "stdout",
          "text": [
            "1\n",
            "2\n"
          ]
        }
      ]
    },
    {
      "cell_type": "code",
      "metadata": {
        "id": "vi86OHMORbU6"
      },
      "source": [
        "def more(**kw):\n",
        "  for key, value in kw.items():\n",
        "    print(key, value)\n"
      ],
      "execution_count": 44,
      "outputs": []
    },
    {
      "cell_type": "code",
      "metadata": {
        "id": "16NPSHHqRspl",
        "outputId": "db4956c5-04cf-4443-cd9d-ea3806c89019",
        "colab": {
          "base_uri": "https://localhost:8080/"
        }
      },
      "source": [
        "more(one=1, two = 2)"
      ],
      "execution_count": 45,
      "outputs": [
        {
          "output_type": "stream",
          "name": "stdout",
          "text": [
            "one 1\n",
            "two 2\n"
          ]
        }
      ]
    },
    {
      "cell_type": "code",
      "metadata": {
        "id": "OyoMfW8JRuR-"
      },
      "source": [
        ""
      ],
      "execution_count": null,
      "outputs": []
    }
  ]
}