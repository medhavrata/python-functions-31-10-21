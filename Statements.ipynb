{
  "nbformat": 4,
  "nbformat_minor": 0,
  "metadata": {
    "colab": {
      "name": "Statements.ipynb",
      "provenance": [],
      "authorship_tag": "ABX9TyMKb61ZqVH1yjMweTjTJ4Xj",
      "include_colab_link": true
    },
    "kernelspec": {
      "name": "python3",
      "display_name": "Python 3"
    },
    "language_info": {
      "name": "python"
    }
  },
  "cells": [
    {
      "cell_type": "markdown",
      "metadata": {
        "id": "view-in-github",
        "colab_type": "text"
      },
      "source": [
        "<a href=\"https://colab.research.google.com/github/medhavrata/python-functions-31-10-21/blob/main/Statements.ipynb\" target=\"_parent\"><img src=\"https://colab.research.google.com/assets/colab-badge.svg\" alt=\"Open In Colab\"/></a>"
      ]
    },
    {
      "cell_type": "markdown",
      "metadata": {
        "id": "2Tnx29ajGnK6"
      },
      "source": [
        "# Lesson One: Statements"
      ]
    },
    {
      "cell_type": "markdown",
      "metadata": {
        "id": "ovb_UyhOGFvp"
      },
      "source": [
        "## Functions"
      ]
    },
    {
      "cell_type": "markdown",
      "metadata": {
        "id": "KONSzIDZKcG9"
      },
      "source": [
        "### Basic Functions"
      ]
    },
    {
      "cell_type": "markdown",
      "metadata": {
        "id": "54irUIVPKsN6"
      },
      "source": [
        ""
      ]
    },
    {
      "cell_type": "code",
      "metadata": {
        "colab": {
          "base_uri": "https://localhost:8080/"
        },
        "id": "Q3dibT08GmHn",
        "outputId": "ffa07ea5-dc6c-4244-e651-2ce086cd837c"
      },
      "source": [
        "print(\"hello world!\")"
      ],
      "execution_count": 1,
      "outputs": [
        {
          "output_type": "stream",
          "name": "stdout",
          "text": [
            "hello world!\n"
          ]
        }
      ]
    },
    {
      "cell_type": "code",
      "metadata": {
        "id": "uJ9-eu5tG9sT"
      },
      "source": [
        "def first_func(x):\n",
        "  print(f\"value passed is {x}\")"
      ],
      "execution_count": 2,
      "outputs": []
    },
    {
      "cell_type": "code",
      "metadata": {
        "id": "yNBvyO1QKFgy",
        "outputId": "0f38a2c9-f23f-45ca-e89b-b5cf365898c3",
        "colab": {
          "base_uri": "https://localhost:8080/"
        }
      },
      "source": [
        "first_func(3)"
      ],
      "execution_count": 3,
      "outputs": [
        {
          "output_type": "stream",
          "name": "stdout",
          "text": [
            "value passed is 3\n"
          ]
        }
      ]
    },
    {
      "cell_type": "markdown",
      "metadata": {
        "id": "gcnD2S16Kydc"
      },
      "source": [
        "### Python Decorators and Generators"
      ]
    },
    {
      "cell_type": "markdown",
      "metadata": {
        "id": "gPHjkQHuNJ9h"
      },
      "source": [
        "#### Deals with infinite data streams"
      ]
    },
    {
      "cell_type": "code",
      "metadata": {
        "id": "_gu9XlOPKwHm"
      },
      "source": [
        "def lazy_return_random_attacks():\n",
        "  \"\"\"Yield attacks each time\"\"\"\n",
        "  import random\n",
        "  attacks = {\"kimura\": \"upper_body\",\n",
        "             \"straight_ankle_lock\": \"lower_body\",\n",
        "             \"arm_triangle\": \"upper_body\",\n",
        "             \"keylock\": \"upper_body\",\n",
        "             \"knee_bar\": \"lower_body\"}\n",
        "  while True:\n",
        "    random_attach = random.choices(list(attacks.keys()))\n",
        "    yield lazy_return_random_attacks\n",
        "  \n",
        "  # Make all attacks appear as Upper Case\n",
        "  upper_case_attacks = (attack.pop().upper() for attack in lazy_return_random_attacks())"
      ],
      "execution_count": null,
      "outputs": []
    }
  ]
}